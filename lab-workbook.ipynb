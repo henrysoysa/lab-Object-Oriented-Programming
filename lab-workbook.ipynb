{
 "cells": [
  {
   "cell_type": "code",
   "execution_count": 68,
   "metadata": {},
   "outputs": [],
   "source": [
    "class pythonTv():\n",
    "\n",
    "    def __init__(self, on:bool, volume:float, active_channel:int, input:str, size:float):\n",
    "        import numpy as np\n",
    "        input_range = [\"Anthena\", \"HDMI1\", \"HDMI2\", \"HDMI3\"]\n",
    "        size_range = [42, 50, 55, 65, 75]\n",
    "\n",
    "\n",
    "        if type(on) != bool:\n",
    "            raise ValueError(\"On status must be a boolean type\")\n",
    "        self.on = on\n",
    "        \n",
    "        if volume not in np.arange(0,100, 0.01):\n",
    "            raise ValueError(\"Volume must be a float value between 0 and 100\")\n",
    "        self.volume = float(volume)\n",
    "        \n",
    "        if active_channel not in list(range(1,10)):\n",
    "            raise ValueError(\"active_channel must be an int value between 1 and 10\")\n",
    "        self.active_channel = int(active_channel)\n",
    "        \n",
    "        if input not in input_range:\n",
    "            raise ValueError(\"Input must be in range Anthena, HDMI1, HDMI2, HDMI3\")\n",
    "        self.input = input\n",
    "        \n",
    "        if size not in size_range:\n",
    "            raise ValueError(\"Size must be in range {}\".format(size_range))\n",
    "        self.size = float(size)\n",
    "\n",
    "    def switch_on(self):\n",
    "        self.on = True\n",
    "        return self.on\n",
    "\n",
    "    def switch_off(self):\n",
    "        self.on = False\n",
    "        return self.on\n",
    "    \n",
    "    def set_volume(self, value:int):\n",
    "        import numpy as np\n",
    "        if value not in np.arange(0,100):\n",
    "            raise ValueError(\"Volume must be a value between 0 and 100\")\n",
    "        self.volume = value\n",
    "        return self.volume\n",
    "\n",
    "    def change_channel(self, value):\n",
    "        if value not in list(range(1,10)):\n",
    "            raise ValueError(\"Channel value must be a value between 1 and 10\")\n",
    "        self.active_channel = value\n",
    "        return self.active_channel\n",
    "    \n",
    "    def set_input(self, value):\n",
    "        input_range = [\"Anthena\", \"HDMI1\", \"HDMI2\", \"HDMI3\"]\n",
    "        if value not in input_range:\n",
    "            raise ValueError(\"Input must be in range of values: {}\".format(input_range))\n",
    "        self.input = value\n",
    "        return self.input"
   ]
  },
  {
   "cell_type": "code",
   "execution_count": 69,
   "metadata": {},
   "outputs": [],
   "source": [
    "ptv = pythonTv(True, 10.0, 3, \"Anthena\", 50.0)"
   ]
  },
  {
   "cell_type": "code",
   "execution_count": 71,
   "metadata": {},
   "outputs": [
    {
     "data": {
      "text/plain": [
       "True"
      ]
     },
     "execution_count": 71,
     "metadata": {},
     "output_type": "execute_result"
    }
   ],
   "source": [
    "ptv.switch_on()"
   ]
  },
  {
   "cell_type": "code",
   "execution_count": 73,
   "metadata": {},
   "outputs": [
    {
     "data": {
      "text/plain": [
       "False"
      ]
     },
     "execution_count": 73,
     "metadata": {},
     "output_type": "execute_result"
    }
   ],
   "source": [
    "ptv.switch_off()"
   ]
  },
  {
   "cell_type": "code",
   "execution_count": 76,
   "metadata": {},
   "outputs": [
    {
     "data": {
      "text/plain": [
       "14"
      ]
     },
     "execution_count": 76,
     "metadata": {},
     "output_type": "execute_result"
    }
   ],
   "source": [
    "ptv.set_volume(14)"
   ]
  },
  {
   "cell_type": "code",
   "execution_count": 78,
   "metadata": {},
   "outputs": [
    {
     "data": {
      "text/plain": [
       "2"
      ]
     },
     "execution_count": 78,
     "metadata": {},
     "output_type": "execute_result"
    }
   ],
   "source": [
    "ptv.change_channel(2)"
   ]
  },
  {
   "cell_type": "code",
   "execution_count": 79,
   "metadata": {},
   "outputs": [
    {
     "data": {
      "text/plain": [
       "'HDMI1'"
      ]
     },
     "execution_count": 79,
     "metadata": {},
     "output_type": "execute_result"
    }
   ],
   "source": [
    "ptv.set_input('HDMI1')"
   ]
  },
  {
   "cell_type": "code",
   "execution_count": null,
   "metadata": {},
   "outputs": [],
   "source": []
  },
  {
   "cell_type": "code",
   "execution_count": null,
   "metadata": {},
   "outputs": [],
   "source": []
  }
 ],
 "metadata": {
  "kernelspec": {
   "display_name": "Python 3",
   "language": "python",
   "name": "python3"
  },
  "language_info": {
   "codemirror_mode": {
    "name": "ipython",
    "version": 3
   },
   "file_extension": ".py",
   "mimetype": "text/x-python",
   "name": "python",
   "nbconvert_exporter": "python",
   "pygments_lexer": "ipython3",
   "version": "3.9.6"
  }
 },
 "nbformat": 4,
 "nbformat_minor": 2
}
